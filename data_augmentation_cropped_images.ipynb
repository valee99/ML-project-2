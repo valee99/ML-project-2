{
 "cells": [
  {
   "cell_type": "markdown",
   "metadata": {},
   "source": [
    "Living and Bubble are very small ---> data augmentation\n",
    "\n",
    "How? ----> rotation, contrast, brighthness, ecc"
   ]
  },
  {
   "cell_type": "code",
   "execution_count": 1,
   "metadata": {},
   "outputs": [
    {
     "name": "stderr",
     "output_type": "stream",
     "text": [
      "/Users/valentinaolaritei/Desktop/3 SEMESTER/.venv/lib/python3.12/site-packages/albumentations/check_version.py:51: UserWarning: Error fetching version info <urlopen error [SSL: CERTIFICATE_VERIFY_FAILED] certificate verify failed: unable to get local issuer certificate (_ssl.c:1000)>\n",
      "  data = fetch_version_info()\n"
     ]
    }
   ],
   "source": [
    "import cv2\n",
    "import os\n",
    "import random\n",
    "from albumentations import Compose, HorizontalFlip, VerticalFlip, ShiftScaleRotate, RandomBrightnessContrast"
   ]
  },
  {
   "cell_type": "code",
   "execution_count": null,
   "metadata": {},
   "outputs": [],
   "source": [
    "# Define different augmentation pipelines\n",
    "augmentation_type_1 = Compose([\n",
    "    HorizontalFlip(p=0.5),\n",
    "    ShiftScaleRotate(shift_limit=0.1, scale_limit=0.1, rotate_limit=30, p=0.7),\n",
    "    RandomBrightnessContrast(brightness_limit=0.1, contrast_limit=0.1, p=0.5)\n",
    "])\n",
    "\n",
    "augmentation_type_2 = Compose([\n",
    "    VerticalFlip(p=0.5),\n",
    "    ShiftScaleRotate(shift_limit=0.2, scale_limit=0.2, rotate_limit=45, p=0.7),\n",
    "    RandomBrightnessContrast(brightness_limit=0.2, contrast_limit=0.3, p=0.5)\n",
    "])\n",
    "\n",
    "augmentation_type_3 = Compose([\n",
    "    HorizontalFlip(p=0.7),\n",
    "    ShiftScaleRotate(shift_limit=0.15, scale_limit=0.15, rotate_limit=60, p=0.5),\n",
    "    RandomBrightnessContrast(brightness_limit=0.3, contrast_limit=0.2, p=0.7)\n",
    "])"
   ]
  },
  {
   "cell_type": "code",
   "execution_count": null,
   "metadata": {},
   "outputs": [],
   "source": [
    "# List of augmentations to randomly select from\n",
    "augmentations = [augmentation_type_1, augmentation_type_2, augmentation_type_3]\n",
    "\n",
    "def augment_image(image_path, label_path, output_dir, num_augments=3, times_per_type=1):\n",
    "    # Load image\n",
    "    image = cv2.imread(image_path)\n",
    "    base_name = os.path.splitext(os.path.basename(image_path))[0]\n",
    "    \n",
    "    # Load label content if it exists\n",
    "    if os.path.exists(label_path):\n",
    "        with open(label_path, 'r') as file:\n",
    "            label_content = file.read()\n",
    "\n",
    "    # Apply multiple augmentations\n",
    "    for augment_idx in range(num_augments):\n",
    "        # Randomly choose an augmentation type\n",
    "        augmentation = random.choice(augmentations)\n",
    "        \n",
    "        for repeat_idx in range(times_per_type):\n",
    "            augmented = augmentation(image=image)['image']\n",
    "            \n",
    "            # Save the augmented image\n",
    "            aug_image_name = f\"{base_name}_aug_{augment_idx}_{repeat_idx}.png\"\n",
    "            cv2.imwrite(os.path.join(output_dir, aug_image_name), augmented)\n",
    "            \n",
    "            # Save the corresponding annotation\n",
    "            aug_label_name = f\"{base_name}_aug_{augment_idx}_{repeat_idx}.txt\"\n",
    "            if os.path.exists(label_path):  # Only save label if it exists\n",
    "                with open(os.path.join(output_dir, aug_label_name), 'w') as file:\n",
    "                    file.write(label_content)"
   ]
  },
  {
   "cell_type": "code",
   "execution_count": null,
   "metadata": {},
   "outputs": [],
   "source": [
    "# Directories\n",
    "input_dir = 'extracted_shapes'\n",
    "output_dir = 'augmented_shapes'\n",
    "os.makedirs(output_dir, exist_ok=True)\n",
    "\n",
    "# Apply augmentation only to \"Living\" and \"Bubble\" images\n",
    "for filename in os.listdir(input_dir):\n",
    "    # Explicitly exclude any files containing \"Non-Living\" in the filename\n",
    "    if filename.endswith('.png') and (\"Living\" in filename or \"Bubble\" in filename) and \"Non-Living\" not in filename:\n",
    "        image_path = os.path.join(input_dir, filename)\n",
    "        label_path = os.path.join(input_dir, os.path.splitext(filename)[0] + '.txt')\n",
    "        augment_image(image_path, label_path, output_dir)\n"
   ]
  }
 ],
 "metadata": {
  "kernelspec": {
   "display_name": ".venv",
   "language": "python",
   "name": "python3"
  },
  "language_info": {
   "codemirror_mode": {
    "name": "ipython",
    "version": 3
   },
   "file_extension": ".py",
   "mimetype": "text/x-python",
   "name": "python",
   "nbconvert_exporter": "python",
   "pygments_lexer": "ipython3",
   "version": "3.12.6"
  }
 },
 "nbformat": 4,
 "nbformat_minor": 2
}
