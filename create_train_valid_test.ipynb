{
 "cells": [
  {
   "cell_type": "code",
   "execution_count": 1,
   "metadata": {},
   "outputs": [],
   "source": [
    "import os\n",
    "import random\n",
    "import shutil"
   ]
  },
  {
   "cell_type": "code",
   "execution_count": 2,
   "metadata": {},
   "outputs": [],
   "source": [
    "# Define source directories\n",
    "source_dirs = {\n",
    "    \"with_contrast\": [\"dataset/images_with_contrast\", \"dataset/augmented_images_with_contrast\"],\n",
    "    \"no_contrast\": [\"dataset/images_no_contrast\", \"dataset/augmented_images_no_contrast\"]\n",
    "}\n",
    "\n",
    "label_dirs = {\n",
    "    \"with_contrast\": [\"dataset/labels\", \"dataset/augmented_labels\"],\n",
    "    \"no_contrast\": [\"dataset/labels\", \"dataset/augmented_labels\"]\n",
    "}\n",
    "\n",
    "# Output directories for split dataset\n",
    "output_base_dir = 'dataset_split'\n",
    "for variant in [\"with_contrast\", \"no_contrast\"]:\n",
    "    for split in [\"train\", \"val\", \"test\"]:\n",
    "        os.makedirs(os.path.join(output_base_dir, f'images_{variant}/{split}'), exist_ok=True)\n",
    "        os.makedirs(os.path.join(output_base_dir, f'labels_{variant}/{split}'), exist_ok=True)"
   ]
  },
  {
   "cell_type": "code",
   "execution_count": 3,
   "metadata": {},
   "outputs": [],
   "source": [
    "# Split ratios\n",
    "train_ratio = 0.7\n",
    "val_ratio = 0.2\n",
    "test_ratio = 0.1"
   ]
  },
  {
   "cell_type": "code",
   "execution_count": 4,
   "metadata": {},
   "outputs": [],
   "source": [
    "def collect_files(image_dirs):\n",
    "    \"\"\"Collect all image files from given directories.\"\"\"\n",
    "    image_files = []\n",
    "    for image_dir in image_dirs:\n",
    "        image_files.extend([os.path.join(image_dir, f) for f in os.listdir(image_dir) if f.endswith('.png') or f.endswith('.jpg')])\n",
    "    return image_files\n",
    "\n",
    "def split_files(image_files):\n",
    "    \"\"\"Split files into train, validation, and test lists based on set ratios.\"\"\"\n",
    "    random.shuffle(image_files)\n",
    "    num_images = len(image_files)\n",
    "    train_split = int(train_ratio * num_images)\n",
    "    val_split = int(val_ratio * num_images)\n",
    "    train_files = image_files[:train_split]\n",
    "    val_files = image_files[train_split:train_split + val_split]\n",
    "    test_files = image_files[train_split + val_split:]\n",
    "    return train_files, val_files, test_files\n",
    "\n",
    "def move_files(file_list, image_output_dir, label_output_dir, label_dirs):\n",
    "    \"\"\"Move image and label files to specified directories.\"\"\"\n",
    "    for image_file in file_list:\n",
    "        # Move image\n",
    "        image_filename = os.path.basename(image_file)\n",
    "        dst_image_path = os.path.join(image_output_dir, image_filename)\n",
    "        shutil.copy(image_file, dst_image_path)\n",
    "\n",
    "        # Move corresponding label\n",
    "        label_filename = os.path.splitext(image_filename)[0] + '.txt'\n",
    "        for label_dir in label_dirs:\n",
    "            src_label_path = os.path.join(label_dir, label_filename)\n",
    "            if os.path.exists(src_label_path):\n",
    "                dst_label_path = os.path.join(label_output_dir, label_filename)\n",
    "                shutil.copy(src_label_path, dst_label_path)\n",
    "                break\n",
    "\n",
    "def split_dataset(image_dirs, label_dirs, output_variant):\n",
    "    \"\"\"Split dataset for a given variant and move files to train, val, and test directories.\"\"\"\n",
    "    image_files = collect_files(image_dirs)\n",
    "    train_files, val_files, test_files = split_files(image_files)\n",
    "\n",
    "    # Move files for each split\n",
    "    move_files(train_files, os.path.join(output_base_dir, f'images_{output_variant}/train'), os.path.join(output_base_dir, f'labels_{output_variant}/train'), label_dirs)\n",
    "    move_files(val_files, os.path.join(output_base_dir, f'images_{output_variant}/val'), os.path.join(output_base_dir, f'labels_{output_variant}/val'), label_dirs)\n",
    "    move_files(test_files, os.path.join(output_base_dir, f'images_{output_variant}/test'), os.path.join(output_base_dir, f'labels_{output_variant}/test'), label_dirs)\n",
    "\n",
    "    print(f\"Split complete for {output_variant}: {len(train_files)} train, {len(val_files)} val, {len(test_files)} test images.\")"
   ]
  },
  {
   "cell_type": "code",
   "execution_count": 5,
   "metadata": {},
   "outputs": [
    {
     "name": "stdout",
     "output_type": "stream",
     "text": [
      "Split complete for with_contrast: 225 train, 64 val, 33 test images.\n",
      "Split complete for no_contrast: 225 train, 64 val, 33 test images.\n"
     ]
    }
   ],
   "source": [
    "# Split datasets for with and without contrast\n",
    "split_dataset(source_dirs[\"with_contrast\"], label_dirs[\"with_contrast\"], \"with_contrast\")\n",
    "split_dataset(source_dirs[\"no_contrast\"], label_dirs[\"no_contrast\"], \"no_contrast\")\n"
   ]
  }
 ],
 "metadata": {
  "kernelspec": {
   "display_name": ".venv",
   "language": "python",
   "name": "python3"
  },
  "language_info": {
   "codemirror_mode": {
    "name": "ipython",
    "version": 3
   },
   "file_extension": ".py",
   "mimetype": "text/x-python",
   "name": "python",
   "nbconvert_exporter": "python",
   "pygments_lexer": "ipython3",
   "version": "3.12.6"
  }
 },
 "nbformat": 4,
 "nbformat_minor": 2
}
