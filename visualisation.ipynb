{
 "cells": [
  {
   "cell_type": "code",
   "execution_count": 44,
   "metadata": {},
   "outputs": [],
   "source": [
    "import cv2\n",
    "import numpy as np\n",
    "import matplotlib.pyplot as plt\n",
    "from os.path import exists, join, basename, dirname\n",
    "from glob import glob\n",
    "\n",
    "import ipywidgets as widgets\n",
    "from IPython.display import display\n",
    "\n",
    "import os\n",
    "\n",
    "%matplotlib inline\n",
    "\n",
    "from ultralytics import YOLO\n",
    "\n",
    "import gc\n",
    "\n",
    "from tqdm import tqdm\n",
    "from matplotlib.colors import Normalize, ListedColormap"
   ]
  },
  {
   "cell_type": "code",
   "execution_count": 2,
   "metadata": {},
   "outputs": [],
   "source": [
    "def get_image_mask(model_path: str, image_path: str, image_height: int, image_width: int):\n",
    "\n",
    "    model = YOLO(model_path)\n",
    "    result_full_image = model(image_path, verbose=False)\n",
    "\n",
    "    binary_mask_full_img = np.zeros((image_height, image_width))\n",
    "    for result in result_full_image:\n",
    "        mask = result.masks\n",
    "        if mask != None:\n",
    "            coordinates = mask.xy\n",
    "            non_empty_masks = [coords for coords in coordinates if coords.size > 0]\n",
    "\n",
    "            if non_empty_masks:\n",
    "                contours = [contour.astype(np.int32).reshape((-1, 1, 2)) for contour in coordinates]\n",
    "                binary_mask_full_img = cv2.drawContours(binary_mask_full_img, contours, -1, (255), thickness=cv2.FILLED).astype(np.uint8)\n",
    "    \n",
    "    return binary_mask_full_img\n",
    "\n",
    "def get_patches_masks(model_path: str, patches_path: str, patch_height: int, patch_width: int):\n",
    "\n",
    "    model = YOLO(model_path)\n",
    "    result_patches = model(patches_path, verbose=False)\n",
    "\n",
    "    patches_masks = []\n",
    "    for result_patch in result_patches:\n",
    "        binary_mask_patch = np.zeros((patch_height,patch_width))\n",
    "        mask = result_patch.masks\n",
    "        if mask != None:\n",
    "            coordinates = mask.xy\n",
    "            non_empty_masks = [coords for coords in coordinates if coords.size > 0]\n",
    "\n",
    "            if non_empty_masks:\n",
    "                contours = [contour.astype(np.int32).reshape((-1, 1, 2)) for contour in coordinates]\n",
    "                binary_mask_patch = cv2.drawContours(binary_mask_patch, contours, -1, (255), thickness=cv2.FILLED).astype(np.uint8)\n",
    "\n",
    "        patches_masks.append(binary_mask_patch)\n",
    "\n",
    "    return patches_masks\n",
    "\n",
    "def combine_mask_patches(patches_masks: list, n_patches: dict, n_rows_patch: int, n_cols_patch: int, img_shape: tuple):\n",
    "    reg_patches = patches_masks[:n_patches[\"reg\"]]\n",
    "    inter_patches = patches_masks[n_patches[\"reg\"]:n_patches[\"reg\"]+n_patches[\"inter\"]]\n",
    "    hor_patches = patches_masks[n_patches[\"reg\"]+n_patches[\"inter\"]:n_patches[\"reg\"]+n_patches[\"inter\"]+n_patches[\"hor\"]]\n",
    "    ver_patches = patches_masks[n_patches[\"reg\"]+n_patches[\"inter\"]+n_patches[\"hor\"]:n_patches[\"reg\"]+n_patches[\"inter\"]+n_patches[\"hor\"]+n_patches[\"ver\"]]\n",
    "\n",
    "    reg_patches_count = 0\n",
    "    inter_patches_count = 0\n",
    "    hor_patches_count = 0\n",
    "    ver_patches_count = 0\n",
    "\n",
    "    reg_array = np.zeros(img_shape)\n",
    "    inter_array = np.zeros(img_shape)\n",
    "    hor_array = np.zeros(img_shape)\n",
    "    ver_array = np.zeros(img_shape)\n",
    "\n",
    "    img_height, img_width = img_shape\n",
    "    img_height_patch, img_width_patch = (\n",
    "        img_height // n_rows_patch,\n",
    "        img_width // n_cols_patch,\n",
    "    )\n",
    "\n",
    "    for i in range(n_rows_patch):\n",
    "        for j in range(n_cols_patch):\n",
    "\n",
    "            x_min_patch, x_max_patch = j * img_width_patch, (j + 1) * img_width_patch\n",
    "            y_min_patch, y_max_patch = i * img_height_patch, (i + 1) * img_height_patch\n",
    "\n",
    "            y_half_step = int(0.5 * img_height_patch)\n",
    "            x_half_step = int(0.5 * img_width_patch)\n",
    "\n",
    "            reg_array[y_min_patch:y_max_patch,x_min_patch:x_max_patch] = reg_patches[reg_patches_count]\n",
    "            reg_patches_count += 1\n",
    "\n",
    "            if i < n_rows_patch - 1 and j < n_cols_patch - 1:\n",
    "\n",
    "                inter_array[y_min_patch + y_half_step:y_max_patch + y_half_step,x_min_patch + x_half_step:x_max_patch + x_half_step] = inter_patches[inter_patches_count]\n",
    "                inter_patches_count += 1\n",
    "\n",
    "            if (i == 0 or i == n_rows_patch - 1) and j < n_cols_patch - 1:\n",
    "\n",
    "                hor_array[y_min_patch:y_max_patch,x_min_patch + x_half_step:x_max_patch + x_half_step] = hor_patches[hor_patches_count]\n",
    "                hor_patches_count += 1\n",
    "\n",
    "            if (j == 0 or j == n_cols_patch - 1) and i < n_rows_patch - 1:\n",
    "\n",
    "                ver_array[y_min_patch+y_half_step:y_max_patch+y_half_step,x_min_patch:x_max_patch] = ver_patches[ver_patches_count]\n",
    "                ver_patches_count += 1\n",
    "\n",
    "    combined_array = np.maximum.reduce([reg_array,inter_array,hor_array,ver_array]).astype(np.uint8)\n",
    "\n",
    "    return combined_array\n",
    "\n",
    "def combine_mask_models(masks_model_a: np.array, mask_model_b: np.array):\n",
    "\n",
    "    return np.maximum(masks_model_a,mask_model_b)"
   ]
  },
  {
   "cell_type": "code",
   "execution_count": 3,
   "metadata": {},
   "outputs": [],
   "source": [
    "N_ROWS_PATCH = 8\n",
    "N_COLS_PATCH = 8\n",
    "\n",
    "PATH_DATASET_PATCH_IMAGES = \"data/data_split/ctrst-0-255_srfc-0-200_prcs-0_seg_patch/test/images\"\n",
    "PATH_DATASET_FULL_IMAGES = \"data/data_split/ctrst-0-255_srfc-200_prcs-0_seg/test/images\"\n",
    "\n",
    "PATH_MODEL_FULL = \"runs/segmentation/yolo11n_ctrst-0-255_srfc-200_prcs-0_seg_epochs-100_imgsz-1520_batch-8/weights/best.pt\"\n",
    "PATH_MODEL_PATCH = \"runs/segmentation/yolo11n_ctrst-0-255_srfc-0-200_prcs-0_seg_patch_epochs-100_imgsz-190_batch-8/weights/best.pt\"\n",
    "\n",
    "img_name = \"005-0405\""
   ]
  },
  {
   "cell_type": "code",
   "execution_count": null,
   "metadata": {},
   "outputs": [],
   "source": [
    "def visualise(img_name: str):\n",
    "\n",
    "    n_reg_patches = N_ROWS_PATCH * N_COLS_PATCH\n",
    "    n_inter_patches = (N_ROWS_PATCH - 1) * (N_COLS_PATCH - 1)\n",
    "    n_hor_patches = 2 * (N_COLS_PATCH - 1)\n",
    "    n_ver_patches = 2 * (N_ROWS_PATCH - 1)\n",
    "\n",
    "    img_mask = []\n",
    "    img = []\n",
    "\n",
    "    n_patches = {\"reg\":n_reg_patches,\"inter\":n_inter_patches,\"hor\":n_hor_patches,\"ver\":n_ver_patches}\n",
    "\n",
    "    path_slices_full_image = glob(join(PATH_DATASET_FULL_IMAGES,img_name + \"*.jpg\"))\n",
    "\n",
    "    path_slices_full_image_sorted = [0]*len(path_slices_full_image)\n",
    "    for img_path in path_slices_full_image:\n",
    "        slice_idx = basename(img_path).split(\".\")[0].split(\"-\")[-1]\n",
    "        path_slices_full_image_sorted[int(slice_idx)] = img_path\n",
    "\n",
    "    for slice_idx, slice_path in tqdm(enumerate(path_slices_full_image_sorted)):\n",
    "\n",
    "        path_patches_slice = glob(join(PATH_DATASET_PATCH_IMAGES,basename(slice_path).split(\".\")[0]+\"_*.jpg\"))\n",
    "        path_patches_sorted = [0]*len(path_patches_slice)\n",
    "        for img_path in path_patches_slice:\n",
    "            patch_idx = basename(img_path).split(\".\")[0].split(\"-\")[-2]\n",
    "            path_patches_sorted[int(patch_idx)-1] = img_path\n",
    "\n",
    "        full_image = cv2.imread(slice_path, cv2.IMREAD_GRAYSCALE)\n",
    "\n",
    "        image_height, image_width = full_image.shape\n",
    "        patch_height, patch_width = image_height // N_ROWS_PATCH, image_width // N_COLS_PATCH\n",
    "\n",
    "        image_mask = get_image_mask(PATH_MODEL_FULL, slice_path, image_height, image_width)\n",
    "        patches_masks = get_patches_masks(PATH_MODEL_PATCH, path_patches_sorted, patch_height, patch_width)\n",
    "\n",
    "        combined_patches_masks = combine_mask_patches(patches_masks, n_patches, N_ROWS_PATCH, N_COLS_PATCH, (image_height, image_width))\n",
    "        del patches_masks\n",
    "\n",
    "        final_mask = combine_mask_models(image_mask, combined_patches_masks)\n",
    "        del image_mask, combined_patches_masks\n",
    "\n",
    "        img_mask.append(final_mask)\n",
    "        img.append(full_image)\n",
    "        \n",
    "        del path_patches_slice, path_patches_sorted, final_mask, full_image\n",
    "        gc.collect()\n",
    "\n",
    "    def display_boxes(start_slice: int, min_contrast: int, max_contrast: int):\n",
    "        plt.ioff()\n",
    "        fig, axes = plt.subplots(1, 1, figsize=(20, 10))\n",
    "        \n",
    "        axes.imshow(img[start_slice], cmap=\"gray\", vmin=min_contrast, vmax=max_contrast)\n",
    "        axes.imshow(np.where(img_mask[start_slice]==0,np.nan,img_mask[start_slice]), cmap=\"rainbow\", alpha=0.25)\n",
    "        axes.axis('off')\n",
    "\n",
    "        plt.tight_layout()\n",
    "        plt.show() \n",
    "\n",
    "    slice_slider = widgets.IntSlider(\n",
    "        value=0, min=0, max=100, step=1, description='Slice:'\n",
    "    )\n",
    "\n",
    "    contrast_min_slider = widgets.IntSlider(\n",
    "        value=0, min=0, max=254, step=1, description='Min Contrast:'\n",
    "    )\n",
    "\n",
    "    contrast_max_slider = widgets.IntSlider(\n",
    "        value=255, min=1, max=255, step=1, description='Max Contrast:'\n",
    "    )\n",
    "\n",
    "    interactive_plot = widgets.interactive(display_boxes, start_slice=slice_slider, min_contrast=contrast_min_slider, max_contrast=contrast_max_slider)\n",
    "\n",
    "    return interactive_plot, img_mask, img"
   ]
  },
  {
   "cell_type": "code",
   "execution_count": 5,
   "metadata": {},
   "outputs": [
    {
     "name": "stderr",
     "output_type": "stream",
     "text": [
      "101it [03:41,  2.19s/it]\n"
     ]
    }
   ],
   "source": [
    "interactive_plot, img_mask, img = visualise(img_name)"
   ]
  },
  {
   "cell_type": "code",
   "execution_count": null,
   "metadata": {},
   "outputs": [],
   "source": [
    "interactive_plot"
   ]
  },
  {
   "cell_type": "code",
   "execution_count": 8,
   "metadata": {},
   "outputs": [],
   "source": [
    "all_slices = np.array(img_mask)"
   ]
  },
  {
   "cell_type": "code",
   "execution_count": 45,
   "metadata": {},
   "outputs": [],
   "source": [
    "combined_slices  = np.zeros((all_slices.shape[1],all_slices.shape[2]))"
   ]
  },
  {
   "cell_type": "code",
   "execution_count": 46,
   "metadata": {},
   "outputs": [],
   "source": [
    "for i in range(all_slices.shape[0]):\n",
    "    combined_slices = np.where(all_slices[i] == 255, i+1, combined_slices)\n",
    "#combined_slices = np.where(combined_slices == np.nan, 0, combined_slices)"
   ]
  },
  {
   "cell_type": "code",
   "execution_count": 47,
   "metadata": {},
   "outputs": [],
   "source": [
    "viridis_cmap = plt.cm.viridis\n",
    "new_colors = viridis_cmap(np.linspace(0, 1, 256))\n",
    "new_colors[0] = [0, 0, 0, 1]\n",
    "custom_cmap = ListedColormap(new_colors)\n",
    "norm = Normalize(vmin=1, vmax=101)"
   ]
  },
  {
   "cell_type": "code",
   "execution_count": 48,
   "metadata": {},
   "outputs": [
    {
     "data": {
      "image/png": "[encoded data removed]",
      "text/plain": [
       "<Figure size 2000x1000 with 2 Axes>"
      ]
     },
     "metadata": {},
     "output_type": "display_data"
    }
   ],
   "source": [
    "plt.figure(figsize=(20,10))\n",
    "plt.title(f\"Image {img_name}\")\n",
    "plt.imshow(combined_slices, cmap=custom_cmap, norm=norm)\n",
    "plt.colorbar(label=\"Z SLice\")\n",
    "plt.axis(\"off\")\n",
    "plt.show()"
   ]
  }
 ],
 "metadata": {
  "kernelspec": {
   "display_name": "ml_project_2",
   "language": "python",
   "name": "python3"
  },
  "language_info": {
   "codemirror_mode": {
    "name": "ipython",
    "version": 3
   },
   "file_extension": ".py",
   "mimetype": "text/x-python",
   "name": "python",
   "nbconvert_exporter": "python",
   "pygments_lexer": "ipython3",
   "version": "3.12.7"
  }
 },
 "nbformat": 4,
 "nbformat_minor": 2
}
